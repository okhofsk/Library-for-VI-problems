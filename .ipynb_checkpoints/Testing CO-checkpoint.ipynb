{
 "cells": [
  {
   "cell_type": "code",
   "execution_count": 1,
   "metadata": {},
   "outputs": [],
   "source": [
    "# Import Libraries and Dependencies\n",
    "from vilib.constrained_optimization.base import co_problem\n",
    "from vilib.constrained_optimization.generate import*\n",
    "import numpy as np\n",
    "import matplotlib.pyplot as plt\n",
    "from time import perf_counter\n",
    "import numpy.linalg as LA\n",
    "from solvers import *"
   ]
  },
  {
   "cell_type": "code",
   "execution_count": 2,
   "metadata": {
    "scrolled": true
   },
   "outputs": [],
   "source": [
    "dimX = 20\n",
    "dimY = 5\n",
    "dimU = 0\n",
    "proj = get_projector(\"simplex\")\n",
    "\n",
    "q0, p, q, r, A, b = randQCQP(dimX,dimY, proj,True,\"uniform\", False, dimU)\n",
    "fx, hx, gradf, gradh, hx_opt = toQCQP(p, q, r)\n",
    "prob = co_problem(fx, (dimX, dimY), hx_opt, proj, gradf, gradh, True, A, b)\n",
    "\n",
    "x = np.ones(dimX+dimY+dimU)\n",
    "F_co, J_co, prox_co = prob.get_parameters(False)"
   ]
  },
  {
   "cell_type": "code",
   "execution_count": 3,
   "metadata": {},
   "outputs": [],
   "source": [
    "N = 30000\n",
    "\n",
    "# starting point\n",
    "q0 = prox_co(np.ones(dimX + dimY + dimU), 1)"
   ]
  },
  {
   "cell_type": "code",
   "execution_count": null,
   "metadata": {},
   "outputs": [],
   "source": [
    "show_out = False\n",
    "ans0 = adaptive_graal(J_co, F_co, prox_co, q0, N, phi=1.5, output=show_out)[0]"
   ]
  },
  {
   "cell_type": "code",
   "execution_count": null,
   "metadata": {
    "scrolled": true
   },
   "outputs": [],
   "source": [
    "ans1 = extra_gradient_method(J_co, F_co, prox_co, q0, N, show_out)[0]"
   ]
  },
  {
   "cell_type": "code",
   "execution_count": null,
   "metadata": {
    "scrolled": true
   },
   "outputs": [],
   "source": [
    "ans2 = tseng_fbf_linesearch(J_co, F_co, prox_co, q0, 2, N)[0]"
   ]
  },
  {
   "cell_type": "code",
   "execution_count": null,
   "metadata": {
    "scrolled": true
   },
   "outputs": [],
   "source": [
    "import seaborn as sns\n",
    "sns.set()\n",
    "plt.plot(ans1, '--g', label='Extra Gradient')\n",
    "plt.plot(ans0, '--b', label='aGraal')\n",
    "plt.plot(ans2, '--r', label='Tseng Linesearch')\n",
    "\n",
    "plt.legend(loc=\"upper right\")\n",
    "\n",
    "plt.yscale('log')\n",
    "\n",
    "plt.xlabel(u' iterations, $k$')\n",
    "plt.ylabel(u'residual')\n",
    "\n",
    "plt.show()"
   ]
  },
  {
   "cell_type": "code",
   "execution_count": null,
   "metadata": {},
   "outputs": [],
   "source": []
  },
  {
   "cell_type": "code",
   "execution_count": null,
   "metadata": {},
   "outputs": [],
   "source": []
  }
 ],
 "metadata": {
  "kernelspec": {
   "display_name": "Python 3",
   "language": "python",
   "name": "python3"
  },
  "language_info": {
   "codemirror_mode": {
    "name": "ipython",
    "version": 3
   },
   "file_extension": ".py",
   "mimetype": "text/x-python",
   "name": "python",
   "nbconvert_exporter": "python",
   "pygments_lexer": "ipython3",
   "version": "3.7.4"
  }
 },
 "nbformat": 4,
 "nbformat_minor": 4
}
